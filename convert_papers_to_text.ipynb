{
  "nbformat": 4,
  "nbformat_minor": 0,
  "metadata": {
    "colab": {
      "provenance": [],
      "mount_file_id": "1TGLkBCd1gWDyDeQ6zT7f7gkYQUE0XWZS",
      "authorship_tag": "ABX9TyOj7Ury4aGWgJb9xiuYvVHk",
      "include_colab_link": true
    },
    "kernelspec": {
      "name": "python3",
      "display_name": "Python 3"
    },
    "language_info": {
      "name": "python"
    }
  },
  "cells": [
    {
      "cell_type": "markdown",
      "metadata": {
        "id": "view-in-github",
        "colab_type": "text"
      },
      "source": [
        "<a href=\"https://colab.research.google.com/github/bskang8/CVPR2023_Project/blob/main/convert_papers_to_text.ipynb\" target=\"_parent\"><img src=\"https://colab.research.google.com/assets/colab-badge.svg\" alt=\"Open In Colab\"/></a>"
      ]
    },
    {
      "cell_type": "code",
      "source": [
        "! pip install PyPDF2"
      ],
      "metadata": {
        "colab": {
          "base_uri": "https://localhost:8080/"
        },
        "id": "UBQc9AgCSYcx",
        "outputId": "fa7121d5-707e-4dc5-d4a3-773ed392878f"
      },
      "execution_count": null,
      "outputs": [
        {
          "output_type": "stream",
          "name": "stdout",
          "text": [
            "Collecting PyPDF2\n",
            "  Downloading pypdf2-3.0.1-py3-none-any.whl (232 kB)\n",
            "\u001b[2K     \u001b[90m━━━━━━━━━━━━━━━━━━━━━━━━━━━━━━━━━━━━━━━\u001b[0m \u001b[32m232.6/232.6 kB\u001b[0m \u001b[31m2.9 MB/s\u001b[0m eta \u001b[36m0:00:00\u001b[0m\n",
            "\u001b[?25hInstalling collected packages: PyPDF2\n",
            "Successfully installed PyPDF2-3.0.1\n"
          ]
        }
      ]
    },
    {
      "cell_type": "code",
      "execution_count": null,
      "metadata": {
        "id": "JhL8xf5gSWq0"
      },
      "outputs": [],
      "source": [
        "import os\n",
        "from PyPDF2 import PdfReader"
      ]
    },
    {
      "cell_type": "code",
      "source": [
        "def obtain_all_papers_by_text(papers_path, save_path, split_type='\\\\'):\n",
        "    os.makedirs(save_path, exist_ok=True)\n",
        "    converted_list = os.listdir(save_path)\n",
        "    file_list = os.listdir(papers_path)\n",
        "    for file in file_list:\n",
        "        if file[:-3] + 'txt' not in converted_list:\n",
        "            print(file)\n",
        "            pdf_path = os.path.join(papers_path, file)\n",
        "            convert_papers_to_txt(pdf_path, save_path, split_type)\n",
        "\n",
        "def convert_papers_to_txt(paper_path, save_path, split_type):\n",
        "    extracted_text = extract_text_from_pdf(paper_path)\n",
        "    split_path = paper_path.split(split_type)\n",
        "    txt_name = split_path[-1][:-3] + 'txt'\n",
        "    txt_path = os.path.join(save_path, txt_name)\n",
        "\n",
        "    txt_file = open(txt_path, 'w', encoding='UTF-8', errors='ignore')\n",
        "    txt_file.write(extracted_text)\n",
        "    txt_file.close()\n",
        "\n",
        "def extract_text_from_pdf(file_path):\n",
        "    reader = PdfReader(file_path)\n",
        "    pages = reader.pages\n",
        "    text = \"\"\n",
        "    for page in pages:\n",
        "        sub = page.extract_text()\n",
        "        text += sub\n",
        "    return text"
      ],
      "metadata": {
        "id": "I0ZfwY1mYYC-"
      },
      "execution_count": null,
      "outputs": []
    },
    {
      "cell_type": "code",
      "source": [
        "papers_path = os.path.join(os.getcwd(), 'drive', 'MyDrive', 'cvpr_papers', 'part1')\n",
        "save_path = os.path.join(os.getcwd(), 'drive', 'MyDrive', 'cvpr_papers', 'text', 'part1')\n",
        "split_type = '/'\n",
        "obtain_all_papers_by_text(papers_path, save_path, split_type)"
      ],
      "metadata": {
        "id": "-x-6AoDIgWeN"
      },
      "execution_count": null,
      "outputs": []
    }
  ]
}