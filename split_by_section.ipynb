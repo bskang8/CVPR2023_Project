{
  "nbformat": 4,
  "nbformat_minor": 0,
  "metadata": {
    "colab": {
      "provenance": [],
      "mount_file_id": "1u5cfN5mMlzZIzkRBb1IG3XjNjjad4qXf",
      "authorship_tag": "ABX9TyNR0FLi9qsa3kFLBgNI/LVj",
      "include_colab_link": true
    },
    "kernelspec": {
      "name": "python3",
      "display_name": "Python 3"
    },
    "language_info": {
      "name": "python"
    }
  },
  "cells": [
    {
      "cell_type": "markdown",
      "metadata": {
        "id": "view-in-github",
        "colab_type": "text"
      },
      "source": [
        "<a href=\"https://colab.research.google.com/github/bskang8/CVPR2023_Project/blob/main/split_by_section.ipynb\" target=\"_parent\"><img src=\"https://colab.research.google.com/assets/colab-badge.svg\" alt=\"Open In Colab\"/></a>"
      ]
    },
    {
      "cell_type": "code",
      "source": [
        "! pip install PyPDF2"
      ],
      "metadata": {
        "colab": {
          "base_uri": "https://localhost:8080/"
        },
        "id": "YJOxeEE5zF_1",
        "outputId": "b978325f-9010-4b2b-b17d-98352b544dd2"
      },
      "execution_count": null,
      "outputs": [
        {
          "output_type": "stream",
          "name": "stdout",
          "text": [
            "Collecting PyPDF2\n",
            "  Downloading pypdf2-3.0.1-py3-none-any.whl (232 kB)\n",
            "\u001b[2K     \u001b[90m━━━━━━━━━━━━━━━━━━━━━━━━━━━━━━━━━━━━━━━\u001b[0m \u001b[32m232.6/232.6 kB\u001b[0m \u001b[31m2.1 MB/s\u001b[0m eta \u001b[36m0:00:00\u001b[0m\n",
            "\u001b[?25hInstalling collected packages: PyPDF2\n",
            "Successfully installed PyPDF2-3.0.1\n"
          ]
        }
      ]
    },
    {
      "cell_type": "code",
      "source": [
        "import os\n",
        "from PyPDF2 import PdfReader"
      ],
      "metadata": {
        "id": "ewgHvKEm1tBR"
      },
      "execution_count": null,
      "outputs": []
    },
    {
      "cell_type": "code",
      "execution_count": null,
      "metadata": {
        "id": "IWkbKu1DyxKY"
      },
      "outputs": [],
      "source": [
        "def extract_text_from_pdf(file_path):\n",
        "    reader = PdfReader(file_path)\n",
        "    pages = reader.pages\n",
        "    text = \"\"\n",
        "    for page in pages:\n",
        "        sub = page.extract_text()\n",
        "        text += sub\n",
        "    return text\n",
        "\n",
        "def seperate_sections(extracted_text):\n",
        "  start_idx = len(extracted_text)-1\n",
        "  devide_section = []\n",
        "  for end_section in range(1,11):\n",
        "      return_idx, extractde_section = extract_one_section(start_idx, end_section, extracted_text)\n",
        "      devide_section.append(extractde_section)\n",
        "\n",
        "      if return_idx >= len(extracted_text)-1:\n",
        "          break\n",
        "      start_idx = return_idx\n",
        "\n",
        "  devide_section = remove_reference(devide_section)\n",
        "  devide_section = made_lower_sections(devide_section)\n",
        "  return devide_section\n",
        "\n",
        "def extract_one_section(start_idx, end_section, extracted_text):\n",
        "    if start_idx == len(extracted_text)-1:\n",
        "        start_idx = extracted_text.index(\"Abstract\")\n",
        "\n",
        "    end_section = str(end_section)\n",
        "    print('End Section: ', end_section)\n",
        "\n",
        "    end_idx = len(extracted_text)\n",
        "    for idx in range(start_idx, len(extracted_text)):\n",
        "        if extracted_text[idx-1] == '\\n' and extracted_text[idx] == end_section and extracted_text[idx+1] == '.':\n",
        "            end_idx = idx\n",
        "            break\n",
        "    one_section = preprocess_one_section(extracted_text[start_idx:end_idx])\n",
        "    return end_idx, one_section\n",
        "\n",
        "def preprocess_one_section(one_section):\n",
        "  one_section = one_section.split()\n",
        "  text = \"\"\n",
        "  for idx in range(len(one_section)):\n",
        "    if one_section[idx][-1] == '-':\n",
        "      text += one_section[idx]\n",
        "    else:\n",
        "      text += one_section[idx] + \" \"\n",
        "  return text\n",
        "\n",
        "def remove_reference(devide_section):\n",
        "  ref_posi = devide_section[-1].index('References')\n",
        "  reduced_last_section = devide_section[-1][:ref_posi]\n",
        "  devide_section.pop(len(devide_section)-1)\n",
        "  devide_section.append(reduced_last_section)\n",
        "  return devide_section\n",
        "\n",
        "def made_lower_sections(devide_section, max_length=9000):\n",
        "  renew_devide_section = []\n",
        "  for one_section in devide_section:\n",
        "    total_len = len(one_section)\n",
        "    if total_len <= max_length:\n",
        "      renew_devide_section.append(one_section)\n",
        "    else:\n",
        "      dev_idx = 0\n",
        "      for idx in range(2,10):\n",
        "        if total_len/idx < max_length:\n",
        "          dev_idx = idx\n",
        "          break\n",
        "\n",
        "      sec_length = int(total_len / dev_idx)\n",
        "      for idx in range(dev_idx):\n",
        "        st_idx = idx * sec_length\n",
        "        if idx == dev_idx-1:\n",
        "          ed_idx = total_len\n",
        "        else:\n",
        "          ed_idx = (idx+1)*sec_length\n",
        "        renew_devide_section.append(one_section[st_idx:ed_idx])\n",
        "  return renew_devide_section"
      ]
    },
    {
      "cell_type": "code",
      "source": [
        "mother_path = s_path = os.getcwd() + '/drive/MyDrive/cvpr_papers/part1'\n",
        "pdf_file_path = os.path.join(mother_path, 'Du_Weak-Shot_Object_Detection_Through_Mutual_Knowledge_Transfer_CVPR_2023_paper.pdf')\n",
        "\n",
        "extracted_text = extract_text_from_pdf(pdf_file_path)\n",
        "seperate_section_result = seperate_sections(extracted_text)"
      ],
      "metadata": {
        "colab": {
          "base_uri": "https://localhost:8080/"
        },
        "id": "Oky7Ft6u1ydL",
        "outputId": "ba239fe6-a0b6-4d5d-fbe2-2962bcb7e2bf"
      },
      "execution_count": null,
      "outputs": [
        {
          "output_type": "stream",
          "name": "stdout",
          "text": [
            "End Section:  1\n",
            "End Section:  2\n",
            "End Section:  3\n",
            "End Section:  4\n",
            "End Section:  5\n",
            "End Section:  6\n"
          ]
        }
      ]
    }
  ]
}