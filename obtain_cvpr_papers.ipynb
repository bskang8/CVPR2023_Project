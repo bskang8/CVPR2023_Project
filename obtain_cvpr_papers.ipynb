{
  "cells": [
    {
      "cell_type": "code",
      "execution_count": null,
      "metadata": {
        "id": "snuYB0cvd4R8"
      },
      "outputs": [],
      "source": [
        "import requests\n",
        "import os\n",
        "from bs4 import BeautifulSoup"
      ]
    },
    {
      "cell_type": "code",
      "source": [
        "def get_all_cvpr_papers(url, low_direct, save_path):\n",
        "  response = requests.get(os.path.join(url, low_direct))\n",
        "  html_content = response.text\n",
        "  soup = BeautifulSoup(html_content,'html.parser')\n",
        "\n",
        "  paper_link = soup.find_all('dd')\n",
        "  for link in paper_link:\n",
        "      if link.find('a').text.strip() == 'pdf':\n",
        "          link_complete = url + link.find('a')['href']\n",
        "          file_name = link.find('a')['href'].split('/')[-1][:-4] + '.pdf'\n",
        "          whole_path = os.path.join(save_path, file_name)\n",
        "\n",
        "          pdf_file = get_file_from_url(link_complete)\n",
        "          save_to_txt(pdf_file, whole_path)\n",
        "          print(file_name)\n",
        "\n",
        "def get_file_from_url(whole_url):\n",
        "  whole_file = requests.get(whole_url)\n",
        "  return whole_file\n",
        "\n",
        "def save_to_txt(whole_file, save_path):\n",
        "  with open(save_path, 'wb') as file:\n",
        "    file.write(whole_file.content)"
      ],
      "metadata": {
        "id": "bUsM6Y2wzg-l"
      },
      "execution_count": null,
      "outputs": []
    },
    {
      "cell_type": "code",
      "source": [
        "url = 'https://openaccess.thecvf.com'\n",
        "low_direct = 'CVPR2023?day=all'\n",
        "s_path = os.path.join(os.getcwd(), 'papers')\n",
        "\n",
        "get_all_cvpr_papers(url, low_direct, s_path)"
      ],
      "metadata": {
        "id": "JY7TjusPvWQv"
      },
      "execution_count": null,
      "outputs": []
    }
  ],
  "metadata": {
    "kernelspec": {
      "display_name": "Python 3",
      "name": "python3"
    },
    "language_info": {
      "codemirror_mode": {
        "name": "ipython",
        "version": 3
      },
      "file_extension": ".py",
      "mimetype": "text/x-python",
      "name": "python",
      "nbconvert_exporter": "python",
      "pygments_lexer": "ipython3",
      "version": "3.8.3"
    },
    "colab": {
      "provenance": [],
      "gpuType": "T4"
    }
  },
  "nbformat": 4,
  "nbformat_minor": 0
}