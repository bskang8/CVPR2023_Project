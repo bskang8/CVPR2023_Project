{
  "nbformat": 4,
  "nbformat_minor": 0,
  "metadata": {
    "colab": {
      "provenance": [],
      "mount_file_id": "1u5cfN5mMlzZIzkRBb1IG3XjNjjad4qXf",
      "authorship_tag": "ABX9TyMPExylN3HbVrdOEp7gIJZd",
      "include_colab_link": true
    },
    "kernelspec": {
      "name": "python3",
      "display_name": "Python 3"
    },
    "language_info": {
      "name": "python"
    }
  },
  "cells": [
    {
      "cell_type": "markdown",
      "metadata": {
        "id": "view-in-github",
        "colab_type": "text"
      },
      "source": [
        "<a href=\"https://colab.research.google.com/github/bskang8/CVPR2023_Project/blob/main/extract_abs_and_intro.ipynb\" target=\"_parent\"><img src=\"https://colab.research.google.com/assets/colab-badge.svg\" alt=\"Open In Colab\"/></a>"
      ]
    },
    {
      "cell_type": "code",
      "source": [
        "import os"
      ],
      "metadata": {
        "id": "ewgHvKEm1tBR"
      },
      "execution_count": null,
      "outputs": []
    },
    {
      "cell_type": "code",
      "execution_count": null,
      "metadata": {
        "id": "IWkbKu1DyxKY"
      },
      "outputs": [],
      "source": [
        "def extract_abs_and_intro(papers_path, save_path):\n",
        "    os.makedirs(save_path, exist_ok=True)\n",
        "\n",
        "    error_list = []\n",
        "    manual_devide_list = []\n",
        "    extracted_list = os.listdir(save_path)\n",
        "    file_list = os.listdir(papers_path)\n",
        "    for file in file_list:\n",
        "        doing = 1\n",
        "        if file[:-4] + '_intro.txt' not in extracted_list:\n",
        "            one_paper = read_txt_file(papers_path, file)\n",
        "\n",
        "            try:\n",
        "                st_abs = one_paper.index(\"Abstract\")\n",
        "                end_abs = st_intro = one_paper.index(\"1. Introduction\")\n",
        "            except:\n",
        "                doing = 0\n",
        "                error_list.append(file)\n",
        "                print(\"No Abstract and Introduction\")\n",
        "\n",
        "            if doing == 1:\n",
        "                end_intro, manual_devide = find_intro_end_point(one_paper)\n",
        "                if manual_devide == 1:\n",
        "                    manual_devide_list.append(file)\n",
        "\n",
        "                    abs_para = one_paper[st_abs:end_abs]\n",
        "                    intro_para = one_paper[st_intro:end_intro]\n",
        "\n",
        "                    abs_name = file[:-4] + '_abstract.txt'\n",
        "                    intro_name = file[:-4] + '_intro.txt'\n",
        "\n",
        "                    abs_file = open(os.path.join(save_path, abs_name), 'w', encoding='UTF-8', errors='ignore')\n",
        "                    abs_file.write(abs_para)\n",
        "                    abs_file.close()\n",
        "\n",
        "                    intro_file = open(os.path.join(save_path, intro_name), 'w', encoding='UTF-8', errors='ignore')\n",
        "                    intro_file.write(intro_para)\n",
        "                    intro_file.close()\n",
        "    return error_list, manual_devide_list\n",
        "\n",
        "def read_txt_file(papers_path, file):\n",
        "    one_paper_path = os.path.join(papers_path, file)\n",
        "    one_paper = open(one_paper_path, 'r', encoding='UTF8')\n",
        "    return one_paper.read()\n",
        "\n",
        "def find_intro_end_point(one_paper):\n",
        "    manual_devide = 0\n",
        "    try:\n",
        "        end_intro = one_paper.index(\"2. Related\")\n",
        "    except:\n",
        "        try:\n",
        "            end_intro = one_paper.index(\"2. Background\")\n",
        "        except:\n",
        "            manual_devide = 1\n",
        "            end_intro = one_paper.index(\"1. Introduction\") + 3000\n",
        "    return end_intro, manual_devide"
      ]
    },
    {
      "cell_type": "code",
      "source": [
        "m_path = 'C:\\\\CVPR_2023_paper\\\\text\\\\part3'\n",
        "s_path = 'C:\\\\CVPR_2023_paper\\\\devide_text\\\\part3'\n",
        "error_list, manual_devide_list = extract_abs_and_intro(m_path, s_path)"
      ],
      "metadata": {
        "id": "kqwwdrQU9fTL"
      },
      "execution_count": null,
      "outputs": []
    }
  ]
}